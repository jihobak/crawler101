{
 "cells": [
  {
   "cell_type": "code",
   "execution_count": 1,
   "metadata": {},
   "outputs": [],
   "source": [
    "import requests\n",
    "from bs4 import BeautifulSoup"
   ]
  },
  {
   "cell_type": "code",
   "execution_count": 4,
   "metadata": {},
   "outputs": [],
   "source": [
    "import json"
   ]
  },
  {
   "cell_type": "code",
   "execution_count": 7,
   "metadata": {},
   "outputs": [],
   "source": [
    "BASE_URL = \"https://www.kinds.or.kr/api/news/search.do\"\n",
    "\n",
    "condition = {\n",
    "    \"byLine\": \"\",\n",
    "    \"categoryCodes\": [],\n",
    "    \"dateCodes\": [],\n",
    "    \"endDate\": \"2019-11-20\",\n",
    "    \"incidentCodes\": [],\n",
    "    \"indexName\": \"news\",\n",
    "    \"isNotTmUsable\": \"false\",\n",
    "    \"isTmUsable\": \"false\",\n",
    "    \"mainTodayPersonYn\": \"\",\n",
    "    \"networkNodeType\": \"\",\n",
    "    \"newsIds\": [],\n",
    "    \"providerCodes\": [],\n",
    "    \"resultNumber\": 10,\n",
    "    \"searchFilterType\": \"1\",\n",
    "    \"searchKey\": \"나쁜사람\",\n",
    "    \"searchKeys\": [{}],\n",
    "    \"searchScopeType\": \"1\",\n",
    "    \"searchSortType\": \"date\",\n",
    "    \"sortMethod\": \"date\",\n",
    "    \"startDate\": \"2019-08-20\",\n",
    "    \"startNo\": 1,\n",
    "    \"topicOrigin\": \"\"\n",
    "}\n",
    "\n",
    "\n",
    "resp = requests.post(BASE_URL, data=json.dumps(condition))"
   ]
  },
  {
   "cell_type": "markdown",
   "metadata": {},
   "source": [
    "## 뉴스 ID 가져오기"
   ]
  },
  {
   "cell_type": "code",
   "execution_count": 95,
   "metadata": {},
   "outputs": [],
   "source": [
    "def get_news_id(keyword, start_num, howmany):\n",
    "    BASE_URL = \"https://www.kinds.or.kr/api/news/search.do\"\n",
    "\n",
    "    condition = {\n",
    "        \"byLine\": \"\",\n",
    "        \"categoryCodes\": [],\n",
    "        \"dateCodes\": [],\n",
    "        \"endDate\": \"2019-11-20\",\n",
    "        \"incidentCodes\": [],\n",
    "        \"indexName\": \"news\",\n",
    "        \"isNotTmUsable\": \"false\",\n",
    "        \"isTmUsable\": \"false\",\n",
    "        \"mainTodayPersonYn\": \"\",\n",
    "        \"networkNodeType\": \"\",\n",
    "        \"newsIds\": [],\n",
    "        \"providerCodes\": [],\n",
    "        \"resultNumber\": howmany,\n",
    "        \"searchFilterType\": \"1\",\n",
    "        \"searchKey\": keyword,\n",
    "        \"searchKeys\": [{}],\n",
    "        \"searchScopeType\": \"1\",\n",
    "        \"searchSortType\": \"date\",\n",
    "        \"sortMethod\": \"date\",\n",
    "        \"startDate\": \"2019-08-20\",\n",
    "        \"startNo\": start_num,\n",
    "        \"topicOrigin\": \"\"\n",
    "    }\n",
    "    \n",
    "    content_store = []\n",
    "    resp = requests.post(BASE_URL, data=json.dumps(condition))\n",
    "    resp_dict = resp.json()\n",
    "    for news in resp_dict['resultList']:\n",
    "        content_store.append(news['NEWS_ID'])\n",
    "        \n",
    "    return content_store"
   ]
  },
  {
   "cell_type": "code",
   "execution_count": 77,
   "metadata": {},
   "outputs": [],
   "source": [
    "news_id_store = get_news_id()"
   ]
  },
  {
   "cell_type": "code",
   "execution_count": 80,
   "metadata": {},
   "outputs": [
    {
     "data": {
      "text/plain": [
       "'01601001.20191120175141004'"
      ]
     },
     "execution_count": 80,
     "metadata": {},
     "output_type": "execute_result"
    }
   ],
   "source": [
    "news_id_store[8]"
   ]
  },
  {
   "cell_type": "markdown",
   "metadata": {},
   "source": [
    "## for 문"
   ]
  },
  {
   "cell_type": "code",
   "execution_count": 67,
   "metadata": {},
   "outputs": [
    {
     "name": "stdout",
     "output_type": "stream",
     "text": [
      "1\n",
      "2\n",
      "3\n",
      "4\n"
     ]
    }
   ],
   "source": [
    "for i in [1,2,3,4]:\n",
    "    print(i)"
   ]
  },
  {
   "cell_type": "code",
   "execution_count": 68,
   "metadata": {},
   "outputs": [
    {
     "name": "stdout",
     "output_type": "stream",
     "text": [
      "1\n",
      "2\n",
      "3\n",
      "4\n"
     ]
    }
   ],
   "source": [
    "a = [1,2,3,4]\n",
    "for i in a:\n",
    "    print(i)"
   ]
  },
  {
   "cell_type": "markdown",
   "metadata": {},
   "source": [
    "# "
   ]
  },
  {
   "cell_type": "markdown",
   "metadata": {},
   "source": [
    "# 본문가져오기"
   ]
  },
  {
   "cell_type": "code",
   "execution_count": null,
   "metadata": {},
   "outputs": [],
   "source": [
    "BASE_URL = \"https://www.kinds.or.kr/news/detailView.do\"\n",
    "\n",
    "condition = {\n",
    "   \"docId\": \"01100611.20191120173326001\",\n",
    "   \"returnCnt\": \"1\",\n",
    "   \"sectionDiv\": \"1000\"\n",
    "}\n",
    "\n",
    "\n",
    "resp = requests.get(BASE_URL, params=condition)\n",
    "resp_dict = resp.json()\n"
   ]
  },
  {
   "cell_type": "code",
   "execution_count": 54,
   "metadata": {},
   "outputs": [],
   "source": [
    "def get_content(news_id):\n",
    "    BASE_URL = \"https://www.kinds.or.kr/news/detailView.do\"\n",
    "\n",
    "    condition = {\n",
    "       \"docId\": news_id,\n",
    "       \"returnCnt\": \"1\",\n",
    "       \"sectionDiv\": \"1000\"\n",
    "    }\n",
    "\n",
    "\n",
    "    resp = requests.get(BASE_URL, params=condition)\n",
    "    resp_dict = resp.json()\n",
    "    return resp_dict['detail']['CONTENT']"
   ]
  },
  {
   "cell_type": "code",
   "execution_count": 55,
   "metadata": {},
   "outputs": [
    {
     "data": {
      "text/plain": [
       "\"부산시는 ‘2019 한?티센?특별정상회의(이하 정상회의)’참가국 정상들에게 ‘평화의 종’을 선물한다고 20일 밝혔다.<br/>평화의 종은 우리나라 국보 29호인 성덕대왕신종을 기본모형으로, 부산시가 축소 제작, 명명했다. 종소리를 통해 국태민안(國泰民安-나라는 태평하고 백성은 편안함)이 영원하기를 바라는 의미가 깃들어 있다. 이번 정상회의 슬로건인 ‘동행, 평화와 번영’과도 상통하며, 부산으로부터 아세안을 거쳐 전 세계로 평화가 퍼져나가기를 바라는 염원을 담았다.<br/>시는 선물 선정을 위해 지난 8월부터 부산디자인진흥원, 부산관광공사, 아세안문화원, 부산국제교류재단 등 관계기관과 3회에 걸쳐 자문회의를 가졌다.이번 정상회의 기념, 개최도시 부산의 상징성, 지역업체 생산제품 등을 종합 고려해 선물을 선정했다.<br/>부산시 관계자는 “<span class='quot0'>이번 정상회의가 사람(People)·평화(Peace)·상생번영(Prosperity) 공동체 등 ‘3P’를 핵심으로 하는 정부의 신남방정책을 상징한다</span>”고 말했다.<br/>또 한반도 평화정착의 중심인 부산이 ‘평화도시’로 각인 시키고자 ‘평화의 종’을 선정했다는게 시관계자의 설명이다.<br/>했각국 정상 배우자에게는 부산시화(花)인 동백을 모티브로 한 패션키트(실크스카프, 트윌리, 양산)를 선물한다. ‘당신을 사랑합니다’라는 동백의 꽃말을 담았으며, ‘2019년 부산대표 관광기념품 10선’에도 선정됐다.<br/>한편, 한·아세안 특별정상회는 우리나라와 아세안의 대화관계 수립 30주년을 기념하기 위해 오는 25~26일 부산벡스코에서 개최되며, 27일에는 ‘2019 한?似?정상회의’가 누리마루APEC하우스에서 열린다.<br/>부산김정한 기자 jhkim@seoul.co.kr\""
      ]
     },
     "execution_count": 55,
     "metadata": {},
     "output_type": "execute_result"
    }
   ],
   "source": [
    "get_content(\"01100611.20191120173326001\")"
   ]
  },
  {
   "cell_type": "markdown",
   "metadata": {},
   "source": [
    "# 총 기사 개수 가져오는 함수"
   ]
  },
  {
   "cell_type": "code",
   "execution_count": 105,
   "metadata": {},
   "outputs": [],
   "source": [
    "def get_total(keyword):\n",
    "    BASE_URL = \"https://www.kinds.or.kr/api/news/search.do\"\n",
    "\n",
    "    condition = {\n",
    "        \"byLine\": \"\",\n",
    "        \"categoryCodes\": [],\n",
    "        \"dateCodes\": [],\n",
    "        \"endDate\": \"2019-11-20\",\n",
    "        \"incidentCodes\": [],\n",
    "        \"indexName\": \"news\",\n",
    "        \"isNotTmUsable\": \"false\",\n",
    "        \"isTmUsable\": \"false\",\n",
    "        \"mainTodayPersonYn\": \"\",\n",
    "        \"networkNodeType\": \"\",\n",
    "        \"newsIds\": [],\n",
    "        \"providerCodes\": [],\n",
    "        \"resultNumber\": 1,\n",
    "        \"searchFilterType\": \"1\",\n",
    "        \"searchKey\": keyword,\n",
    "        \"searchKeys\": [{}],\n",
    "        \"searchScopeType\": \"1\",\n",
    "        \"searchSortType\": \"date\",\n",
    "        \"sortMethod\": \"date\",\n",
    "        \"startDate\": \"2019-08-20\",\n",
    "        \"startNo\": 1,\n",
    "        \"topicOrigin\": \"\"\n",
    "    }\n",
    "    \n",
    "    content_store = []\n",
    "    resp = requests.post(BASE_URL, data=json.dumps(condition))\n",
    "    resp_dict = resp.json()\n",
    "    \n",
    "    return resp_dict['totalCount']"
   ]
  },
  {
   "cell_type": "code",
   "execution_count": 106,
   "metadata": {},
   "outputs": [
    {
     "data": {
      "text/plain": [
       "1493"
      ]
     },
     "execution_count": 106,
     "metadata": {},
     "output_type": "execute_result"
    }
   ],
   "source": [
    "get_total('트와이스')"
   ]
  },
  {
   "cell_type": "markdown",
   "metadata": {},
   "source": [
    "# "
   ]
  },
  {
   "cell_type": "markdown",
   "metadata": {},
   "source": [
    "## 올림!하기"
   ]
  },
  {
   "cell_type": "code",
   "execution_count": null,
   "metadata": {},
   "outputs": [],
   "source": [
    "10"
   ]
  },
  {
   "cell_type": "code",
   "execution_count": 116,
   "metadata": {},
   "outputs": [
    {
     "data": {
      "text/plain": [
       "149.4"
      ]
     },
     "execution_count": 116,
     "metadata": {},
     "output_type": "execute_result"
    }
   ],
   "source": [
    "1494/10"
   ]
  },
  {
   "cell_type": "code",
   "execution_count": 108,
   "metadata": {},
   "outputs": [],
   "source": [
    "import math"
   ]
  },
  {
   "cell_type": "code",
   "execution_count": 117,
   "metadata": {},
   "outputs": [
    {
     "data": {
      "text/plain": [
       "150"
      ]
     },
     "execution_count": 117,
     "metadata": {},
     "output_type": "execute_result"
    }
   ],
   "source": [
    "math.ceil(149.4)"
   ]
  },
  {
   "cell_type": "markdown",
   "metadata": {},
   "source": [
    "# 여러개 본문 가져오기"
   ]
  },
  {
   "cell_type": "code",
   "execution_count": 119,
   "metadata": {},
   "outputs": [],
   "source": [
    "def get_news(keyword, num_of_news):\n",
    "    total = get_total(keyword)\n",
    "    \n",
    "    page_num = math.ceil(total/num_of_news)\n",
    "    \n",
    "    \n",
    "    news_id_bigstore = []\n",
    "    for start in range(1, page_num+1):\n",
    "        news_id_store = get_news_id(keyword, start, num_of_news)\n",
    "        news_id_bigstore.extend(news_id_store)\n",
    "    \n",
    "    \n",
    "    news_store = []\n",
    "    for news_id in news_id_bigstore:\n",
    "        news_store.append(get_content(news_id))\n",
    "    return news_store"
   ]
  },
  {
   "cell_type": "code",
   "execution_count": 120,
   "metadata": {},
   "outputs": [],
   "source": [
    "news = get_news(\"트와이스\", 1000)"
   ]
  },
  {
   "cell_type": "code",
   "execution_count": 121,
   "metadata": {},
   "outputs": [
    {
     "data": {
      "text/plain": [
       "1493"
      ]
     },
     "execution_count": 121,
     "metadata": {},
     "output_type": "execute_result"
    }
   ],
   "source": [
    "len(news)"
   ]
  },
  {
   "cell_type": "code",
   "execution_count": 101,
   "metadata": {},
   "outputs": [
    {
     "data": {
      "text/plain": [
       "\"'2019 SBS 가요대전'의 1차 라인업이 공개됐다.<br/><br/>오는 12월 25일 서울 고척스카이돔에서 펼쳐지는 '2019 SBS 가요대전'이 드디어 베일을 벗었다. 이번 1차 라인업은 방탄소년단을 비롯해 2019년을 빛낸 최정상 아티스트로 구성돼 K-POP 팬들에게 벌써부터 큰 기대감을 모으고 있다.<br/><br/>'2019 SBS 가요대전'을 빛낼 1차 라인업 7팀에는 올해 '인기가요'에서 1위를 석권한 갓세븐, 뉴이스트, 레드벨벳, 마마무, 방탄소년단, 세븐틴, 트와이스(가나다순)가 확정됐다. <br/><br/>전 세계를 휩쓸며 활약 중인 글로벌 아티스트 '방탄소년단'부터 올 한해 큰 사랑을 받았던 '트와이스', '레드벨벳', '마마무', '세븐틴', '갓세븐', '뉴이스트'까지 합세해 '2019 SBS 가요대전'은 올 한해를 마무리할 최고의 퍼포먼스 무대가 될 것으로 보인다. <br/><br/>'2019 SBS 가요대전'은 오는 12월 25일 서울 고척스카이돔에서 생방송으로 진행된다.<br/><br/>YTN Star 강내리 기자 (nrk@ytnplus.co.kr)<br/>[사진제공 = SBS]\""
      ]
     },
     "execution_count": 101,
     "metadata": {},
     "output_type": "execute_result"
    }
   ],
   "source": [
    "news[0]"
   ]
  },
  {
   "cell_type": "code",
   "execution_count": null,
   "metadata": {},
   "outputs": [],
   "source": []
  },
  {
   "cell_type": "markdown",
   "metadata": {},
   "source": [
    "# 함수"
   ]
  },
  {
   "cell_type": "markdown",
   "metadata": {},
   "source": [
    "- **함수**는 이거다 ~ -> def\n",
    "- 가변 요소 -> 인자\n",
    "- 뭘 돌려 줄건데? -> return"
   ]
  },
  {
   "cell_type": "code",
   "execution_count": 26,
   "metadata": {},
   "outputs": [
    {
     "data": {
      "text/plain": [
       "3"
      ]
     },
     "execution_count": 26,
     "metadata": {},
     "output_type": "execute_result"
    }
   ],
   "source": [
    "3*1"
   ]
  },
  {
   "cell_type": "code",
   "execution_count": 27,
   "metadata": {},
   "outputs": [
    {
     "data": {
      "text/plain": [
       "6"
      ]
     },
     "execution_count": 27,
     "metadata": {},
     "output_type": "execute_result"
    }
   ],
   "source": [
    "3*2"
   ]
  },
  {
   "cell_type": "code",
   "execution_count": 29,
   "metadata": {},
   "outputs": [
    {
     "name": "stdout",
     "output_type": "stream",
     "text": [
      "1\n",
      "2\n",
      "3\n",
      "4\n",
      "5\n",
      "6\n",
      "7\n",
      "8\n",
      "9\n"
     ]
    }
   ],
   "source": [
    "for i in range(1, 10):\n",
    "    print(i)"
   ]
  },
  {
   "cell_type": "code",
   "execution_count": 1,
   "metadata": {},
   "outputs": [],
   "source": [
    "def multiply(num):\n",
    "    store = []\n",
    "    for i in range(1, 10):\n",
    "        print(i*num)\n",
    "        store.append(i*num)\n",
    "    return store"
   ]
  },
  {
   "cell_type": "code",
   "execution_count": 2,
   "metadata": {},
   "outputs": [
    {
     "name": "stdout",
     "output_type": "stream",
     "text": [
      "4\n",
      "8\n",
      "12\n",
      "16\n",
      "20\n",
      "24\n",
      "28\n",
      "32\n",
      "36\n"
     ]
    }
   ],
   "source": [
    "abc = multiply(4) "
   ]
  }
 ],
 "metadata": {
  "kernelspec": {
   "display_name": "Python 3",
   "language": "python",
   "name": "python3"
  },
  "language_info": {
   "codemirror_mode": {
    "name": "ipython",
    "version": 3
   },
   "file_extension": ".py",
   "mimetype": "text/x-python",
   "name": "python",
   "nbconvert_exporter": "python",
   "pygments_lexer": "ipython3",
   "version": "3.6.9"
  }
 },
 "nbformat": 4,
 "nbformat_minor": 4
}
